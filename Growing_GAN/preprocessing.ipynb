{
 "cells": [
  {
   "cell_type": "markdown",
   "id": "7c1af076",
   "metadata": {},
   "source": [
    "# Introduction "
   ]
  },
  {
   "cell_type": "markdown",
   "id": "0af40fd8",
   "metadata": {},
   "source": [
    "This notebook deals with the prepocessing of the audio data in a MP3 format. It loads the MP3 files in full length and splits the signal in segments of equal length, such that the duration of every segmant is the same for every level of the model. "
   ]
  },
  {
   "cell_type": "markdown",
   "id": "76922d85",
   "metadata": {},
   "source": [
    "# Imports and Gloabl Variables"
   ]
  },
  {
   "cell_type": "markdown",
   "id": "990db230",
   "metadata": {},
   "source": [
    "* The library os is used get and crate the paths for the data. \n",
    "* The library numpy is used to create and load the training data and to execute mathmatical operations. \n",
    "* The library librosa is used to process audio data"
   ]
  },
  {
   "cell_type": "code",
   "execution_count": null,
   "id": "00efcc52",
   "metadata": {},
   "outputs": [],
   "source": [
    "import os\n",
    "import librosa\n",
    "import numpy as np"
   ]
  },
  {
   "cell_type": "code",
   "execution_count": null,
   "id": "d1ef882e",
   "metadata": {},
   "outputs": [],
   "source": [
    "FINISH_SAMPLE_RATE = 22050\n",
    "FILES_DIR = \"C:/Masterarbeit/music_mp3\" # the folder with the mp3 files\n",
    "FILES_DIR_SAVE = \"C:/Masterarbeit/music_npy\" # the folder to save the .npy data\n",
    "MONO = True  # if the data should be load mono\n",
    "DURATION = 262144/FINISH_SAMPLE_RATE  # in seconds; 262144 is a power of 2 and the number of samples of the final level"
   ]
  },
  {
   "cell_type": "markdown",
   "id": "28d8f389",
   "metadata": {},
   "source": [
    "# Generate Training Data"
   ]
  },
  {
   "cell_type": "markdown",
   "id": "0d5f6716",
   "metadata": {},
   "source": [
    "The code contains a loop to repeadely load the MP3 data with different sample rates. It starts with $22050/2^8$, which is slightly more than $86$. Every MP3 file is loaded with the respective sampling rate in full length starting at second five. The code then calculates how many samples have to lay in one segment, such that the defined duration is reached. The segments are then saved in the defined folder with a unique name. "
   ]
  },
  {
   "cell_type": "code",
   "execution_count": null,
   "id": "f7dbb761",
   "metadata": {
    "ExecuteTime": {
     "end_time": "2021-10-05T08:53:09.683363Z",
     "start_time": "2021-10-05T08:53:04.117Z"
    },
    "code_folding": [],
    "scrolled": false
   },
   "outputs": [],
   "source": [
    "def Loader(file_path, sample_rate, mono=True):\n",
    "    '''\n",
    "    converts a MP3 file to numeric wave data\n",
    "    returns an numpy array\n",
    "    \n",
    "    file_path: path to the mp3 file to load\n",
    "    sample_rate: sample_rate with which the mp3 should be loaded\n",
    "    mono: if it should be loaded as mono\n",
    "    '''\n",
    "    signal = librosa.load(file_path,\n",
    "                          sr=sample_rate,\n",
    "                          offset = 5,\n",
    "                          mono=mono)[0]\n",
    "    return signal\n",
    "\n",
    "\n",
    "def split_signal(signal,sr):\n",
    "    '''\n",
    "    takes in a signal and the sample_rate of the signal\n",
    "    splits the signal into segments with the globally defined DURATION\n",
    "    returns an two deminseional array with the split signal\n",
    "    '''\n",
    "    i = 0 # counter to define the end position of the array for the split signal\n",
    "    j = 0 # counter to define the starting position of the array for the split signal\n",
    "    number_samples_in_segment = int(DURATION * sr) # calculates the number of samples in one segment\n",
    "    number_splits = (len(signal))//number_samples_in_segment # calcutes the number of segments\n",
    "    splitted_signal = []  # instantiate a list to save the segments\n",
    "    for _ in range(number_splits): # loop to extract and seve the segments\n",
    "        i = i + number_samples_in_segment # define ending position\n",
    "        if len(signal[j:i]) == number_samples_in_segment: # check if the number of samples is as expected\n",
    "            splitted_signal.append(signal[j:i]) # save the segment\n",
    "        j = j + number_samples_in_segment # define starting position\n",
    "    return np.array(splitted_signal)\n",
    "\n",
    "\n",
    "signals = [] # \n",
    "for i in range(0,9):  # loop to the number of growing iterations \n",
    "    sr = 22050/2**i # define the sampling rate for each iteration\n",
    "    for root, _, files in os.walk(FILES_DIR): # loop over all subfolders \n",
    "        for file in files: # loop over all files in a subfolder\n",
    "            file_path = os.path.join(root, file) # create the full path to a file\n",
    "            try: signal = Loader(file_path, sr, DURATION, MONO) # try to load the file \n",
    "            except: print(f\"Folgendes file konnte nicht geladen werden: {file}\")\n",
    "            else:\n",
    "                splitted_signal = split_signal(signal,sr) # split the signal into segments of equal length\n",
    "                j = 0 # counter to add to the name of the file\n",
    "                for signal in splitted_signal: # loop through all segments\n",
    "                    j = j + 1\n",
    "                    filename = os.path.join(FILES_DIR_SAVE,f\"sr_{int(sr)}\", file) # create the new filename\n",
    "                    np.save(f\"{filename}_{j}\",np.array(signal)) # save the segment as .npy file\n"
   ]
  },
  {
   "cell_type": "markdown",
   "id": "014717a6",
   "metadata": {},
   "source": [
    "The filenames of one of the subfolders with the training data for one level of the model are extracted and appended to one list and then saved as a numpy array. This is used later by the Data Generator to load the data in batches."
   ]
  },
  {
   "cell_type": "code",
   "execution_count": null,
   "id": "7d4a4707",
   "metadata": {
    "ExecuteTime": {
     "end_time": "2021-10-05T08:53:09.684354Z",
     "start_time": "2021-10-05T08:53:04.126Z"
    }
   },
   "outputs": [],
   "source": [
    "# create file with all the filenames\n",
    "filenames=[] # instantiate list for the filenames\n",
    "FILE_NAMES_FOLDER = \"C:/Masterarbeit/music_npy/sr_86\" # define the folder from which the filenames should be extraced \n",
    "for root,_,files in os.walk(FILE_NAMES_FOLDER): # loop over all subfolders\n",
    "    for file in files: # loop over all files\n",
    "        filenames.append(file) # add the filename to the list\n",
    "filename = os.path.join(\"C:/Masterarbeit\", \"filenames\") # define the name of the new file\n",
    "np.save(f\"{filename}.npy\",filenames) # save the list of all filenames as .npy file"
   ]
  }
 ],
 "metadata": {
  "kernelspec": {
   "display_name": "Python 3",
   "language": "python",
   "name": "python3"
  },
  "language_info": {
   "codemirror_mode": {
    "name": "ipython",
    "version": 3
   },
   "file_extension": ".py",
   "mimetype": "text/x-python",
   "name": "python",
   "nbconvert_exporter": "python",
   "pygments_lexer": "ipython3",
   "version": "3.8.8"
  },
  "toc": {
   "base_numbering": 1,
   "nav_menu": {},
   "number_sections": true,
   "sideBar": true,
   "skip_h1_title": false,
   "title_cell": "Table of Contents",
   "title_sidebar": "Contents",
   "toc_cell": false,
   "toc_position": {
    "height": "calc(100% - 180px)",
    "left": "10px",
    "top": "150px",
    "width": "165px"
   },
   "toc_section_display": true,
   "toc_window_display": false
  },
  "varInspector": {
   "cols": {
    "lenName": 16,
    "lenType": 16,
    "lenVar": 40
   },
   "kernels_config": {
    "python": {
     "delete_cmd_postfix": "",
     "delete_cmd_prefix": "del ",
     "library": "var_list.py",
     "varRefreshCmd": "print(var_dic_list())"
    },
    "r": {
     "delete_cmd_postfix": ") ",
     "delete_cmd_prefix": "rm(",
     "library": "var_list.r",
     "varRefreshCmd": "cat(var_dic_list()) "
    }
   },
   "oldHeight": 122.54499999999999,
   "position": {
    "height": "40px",
    "left": "1126.36px",
    "right": "20px",
    "top": "120px",
    "width": "250px"
   },
   "types_to_exclude": [
    "module",
    "function",
    "builtin_function_or_method",
    "instance",
    "_Feature"
   ],
   "varInspector_section_display": "none",
   "window_display": false
  }
 },
 "nbformat": 4,
 "nbformat_minor": 5
}
